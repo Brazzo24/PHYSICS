{
 "cells": [
  {
   "cell_type": "code",
   "execution_count": 2,
   "id": "83a438c6-38b5-405e-bc51-07484ad91001",
   "metadata": {},
   "outputs": [],
   "source": [
    "import numpy as np\n",
    "import matplotlib.pyplot as plt"
   ]
  },
  {
   "cell_type": "code",
   "execution_count": 3,
   "id": "b779df17-052b-4649-8d73-623749a06f9c",
   "metadata": {},
   "outputs": [],
   "source": [
    "# define Geometry"
   ]
  },
  {
   "cell_type": "code",
   "execution_count": 4,
   "id": "e8e0d373-6d0f-4ec5-9dc6-ce46f057749c",
   "metadata": {},
   "outputs": [],
   "source": [
    "# Force at tyre patch"
   ]
  },
  {
   "cell_type": "code",
   "execution_count": 5,
   "id": "e87a8ddc-ec76-44a4-ad19-6bc58371d0eb",
   "metadata": {},
   "outputs": [],
   "source": [
    "# Calculate Moment around Pivot"
   ]
  },
  {
   "cell_type": "code",
   "execution_count": null,
   "id": "48ccadec-3593-4bb6-8772-91651be8029f",
   "metadata": {},
   "outputs": [],
   "source": []
  }
 ],
 "metadata": {
  "kernelspec": {
   "display_name": "Python 3 (ipykernel)",
   "language": "python",
   "name": "python3"
  },
  "language_info": {
   "codemirror_mode": {
    "name": "ipython",
    "version": 3
   },
   "file_extension": ".py",
   "mimetype": "text/x-python",
   "name": "python",
   "nbconvert_exporter": "python",
   "pygments_lexer": "ipython3",
   "version": "3.10.16"
  }
 },
 "nbformat": 4,
 "nbformat_minor": 5
}
