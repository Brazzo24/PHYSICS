{
 "cells": [
  {
   "cell_type": "code",
   "execution_count": null,
   "id": "b943775a-ca12-49bf-855a-558cf86df3da",
   "metadata": {},
   "outputs": [],
   "source": []
  }
 ],
 "metadata": {
  "kernelspec": {
   "display_name": "",
   "name": ""
  },
  "language_info": {
   "name": ""
  }
 },
 "nbformat": 4,
 "nbformat_minor": 5
}
