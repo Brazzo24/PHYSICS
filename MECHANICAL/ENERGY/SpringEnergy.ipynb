{
 "cells": [
  {
   "cell_type": "code",
   "execution_count": 1,
   "id": "6de3afa3-7ac0-40bc-b4ed-86ce9c96585f",
   "metadata": {},
   "outputs": [],
   "source": [
    "import numpy as np\n",
    "import matplotlib.pyplot as plt\n",
    "from scipy.integrate import solve_ivp\n",
    "\n",
    "# Set parameters\n",
    "m = 1.0   # mass (kg)\n",
    "k = 50.0  # spring constant (N/m)\n",
    "c = 2.0   # damping coefficient (N·s/m)\n",
    "\n",
    "# Times of interest\n",
    "t_start = 0.0\n",
    "t_end = 2.0\n",
    "num_points = 1000\n",
    "t_eval = np.linspace(t_start, t_end, num_points)"
   ]
  },
  {
   "cell_type": "code",
   "execution_count": 2,
   "id": "446334de-b90f-4092-808d-c96f43c967d4",
   "metadata": {},
   "outputs": [],
   "source": [
    "F_max = 100.0  # maximum force in Newtons\n",
    "\n",
    "def F(t):\n",
    "    \"\"\"\n",
    "    Piecewise force:\n",
    "    - 0 <= t < 0.5 : ramp from 0 to F_max\n",
    "    - 0.5 <= t < 1.0 : constant F_max\n",
    "    - t >= 1.0 : drops instantly back to 0\n",
    "    \"\"\"\n",
    "    if t < 0.5:\n",
    "        # Ramp up: fraction = t / 0.5\n",
    "        return F_max * (t / 0.5)\n",
    "    elif t < 1.0:\n",
    "        return F_max\n",
    "    else:\n",
    "        return 0.0"
   ]
  },
  {
   "cell_type": "code",
   "execution_count": 3,
   "id": "b4e48c9c-0ca0-45ae-a006-ed2eeaefca81",
   "metadata": {},
   "outputs": [],
   "source": [
    "def mass_spring_damper(t, y):\n",
    "    \"\"\"\n",
    "    y[0] = x(t)   (displacement)\n",
    "    y[1] = v(t)   (velocity)\n",
    "    \"\"\"\n",
    "    x, v = y\n",
    "    # Acceleration (2nd derivative of x)\n",
    "    dxdt = v\n",
    "    dvdt = (F(t) - c*v - k*x) / m\n",
    "    return [dxdt, dvdt]"
   ]
  },
  {
   "cell_type": "code",
   "execution_count": 4,
   "id": "840c4cb7-2f0c-4ee9-ab15-5b39b48d5f1f",
   "metadata": {},
   "outputs": [],
   "source": [
    "y0 = [0.0, 0.0]  # x(0) = 0, v(0) = 0"
   ]
  },
  {
   "cell_type": "code",
   "execution_count": 5,
   "id": "bd1d81ba-fc43-4184-b095-ed7bed2f07bf",
   "metadata": {},
   "outputs": [],
   "source": [
    "solution = solve_ivp(\n",
    "    mass_spring_damper, \n",
    "    [t_start, t_end], \n",
    "    y0, \n",
    "    t_eval=t_eval, \n",
    "    rtol=1e-8, \n",
    "    atol=1e-8\n",
    ")\n",
    "\n",
    "x_vals = solution.y[0]\n",
    "v_vals = solution.y[1]\n",
    "time_vals = solution.t"
   ]
  },
  {
   "cell_type": "code",
   "execution_count": 6,
   "id": "d82cefa5-5f4b-45df-9658-43c54ba917e2",
   "metadata": {},
   "outputs": [
    {
     "ename": "ImportError",
     "evalue": "cannot import name 'cumtrapz' from 'numpy' (C:\\Users\\mallwitzd\\AppData\\Local\\anaconda3\\envs\\MECHANICS\\lib\\site-packages\\numpy\\__init__.py)",
     "output_type": "error",
     "traceback": [
      "\u001b[1;31m---------------------------------------------------------------------------\u001b[0m",
      "\u001b[1;31mImportError\u001b[0m                               Traceback (most recent call last)",
      "Cell \u001b[1;32mIn[6], line 15\u001b[0m\n\u001b[0;32m     11\u001b[0m power_vals \u001b[38;5;241m=\u001b[39m F_vals \u001b[38;5;241m*\u001b[39m v_vals\n\u001b[0;32m     13\u001b[0m \u001b[38;5;66;03m# Work done by the external force (cumulative integral of power)\u001b[39;00m\n\u001b[0;32m     14\u001b[0m \u001b[38;5;66;03m# We can use numpy's cumulative trapezoid\u001b[39;00m\n\u001b[1;32m---> 15\u001b[0m \u001b[38;5;28;01mfrom\u001b[39;00m \u001b[38;5;21;01mnumpy\u001b[39;00m \u001b[38;5;28;01mimport\u001b[39;00m cumtrapz\n\u001b[0;32m     16\u001b[0m work_vals \u001b[38;5;241m=\u001b[39m cumtrapz(power_vals, time_vals, initial\u001b[38;5;241m=\u001b[39m\u001b[38;5;241m0.0\u001b[39m)\n",
      "\u001b[1;31mImportError\u001b[0m: cannot import name 'cumtrapz' from 'numpy' (C:\\Users\\mallwitzd\\AppData\\Local\\anaconda3\\envs\\MECHANICS\\lib\\site-packages\\numpy\\__init__.py)"
     ]
    }
   ],
   "source": [
    "# Evaluate F at the solution time points:\n",
    "F_vals = np.array([F(ti) for ti in time_vals])\n",
    "\n",
    "# Kinetic energy\n",
    "KE_vals = 0.5 * m * v_vals**2\n",
    "\n",
    "# Potential energy\n",
    "PE_vals = 0.5 * k * x_vals**2\n",
    "\n",
    "# Power (instantaneous)\n",
    "power_vals = F_vals * v_vals\n",
    "\n",
    "# Work done by the external force (cumulative integral of power)\n",
    "# We can use numpy's cumulative trapezoid\n",
    "from numpy import cumtrapz\n",
    "work_vals = cumtrapz(power_vals, time_vals, initial=0.0)"
   ]
  },
  {
   "cell_type": "code",
   "execution_count": null,
   "id": "6a57b614-a1ee-43a8-86d4-a616d0c4a6f5",
   "metadata": {},
   "outputs": [],
   "source": [
    "fig, axs = plt.subplots(3, 2, figsize=(12, 10))\n",
    "axs = axs.flatten()\n",
    "\n",
    "# 1. Force vs Time\n",
    "axs[0].plot(time_vals, F_vals, 'b', label='F(t)')\n",
    "axs[0].set_title('Force vs Time')\n",
    "axs[0].set_xlabel('Time [s]')\n",
    "axs[0].set_ylabel('Force [N]')\n",
    "axs[0].legend()\n",
    "axs[0].grid(True)\n",
    "\n",
    "# 2. Displacement vs Time\n",
    "axs[1].plot(time_vals, x_vals, 'r', label='x(t)')\n",
    "axs[1].set_title('Displacement vs Time')\n",
    "axs[1].set_xlabel('Time [s]')\n",
    "axs[1].set_ylabel('Displacement [m]')\n",
    "axs[1].legend()\n",
    "axs[1].grid(True)\n",
    "\n",
    "# 3. Kinetic Energy vs Time\n",
    "axs[2].plot(time_vals, KE_vals, 'g', label='KE(t)')\n",
    "axs[2].set_title('Kinetic Energy vs Time')\n",
    "axs[2].set_xlabel('Time [s]')\n",
    "axs[2].set_ylabel('Energy [J]')\n",
    "axs[2].legend()\n",
    "axs[2].grid(True)\n",
    "\n",
    "# 4. Potential Energy vs Time\n",
    "axs[3].plot(time_vals, PE_vals, 'c', label='PE(t)')\n",
    "axs[3].set_title('Potential Energy vs Time')\n",
    "axs[3].set_xlabel('Time [s]')\n",
    "axs[3].set_ylabel('Energy [J]')\n",
    "axs[3].legend()\n",
    "axs[3].grid(True)\n",
    "\n",
    "# 5. Work Done by the External Force vs Time\n",
    "axs[4].plot(time_vals, work_vals, 'm', label='Work(t)')\n",
    "axs[4].set_title('Work by External Force vs Time')\n",
    "axs[4].set_xlabel('Time [s]')\n",
    "axs[4].set_ylabel('Work [J]')\n",
    "axs[4].legend()\n",
    "axs[4].grid(True)\n",
    "\n",
    "# 6. Power vs Time\n",
    "axs[5].plot(time_vals, power_vals, 'k', label='Power(t)')\n",
    "axs[5].set_title('Power Input vs Time')\n",
    "axs[5].set_xlabel('Time [s]')\n",
    "axs[5].set_ylabel('Power [W]')\n",
    "axs[5].legend()\n",
    "axs[5].grid(True)\n",
    "\n",
    "plt.tight_layout()\n",
    "plt.show()"
   ]
  },
  {
   "cell_type": "code",
   "execution_count": null,
   "id": "ba38ca00-d740-4627-8b28-e83b411e9b34",
   "metadata": {},
   "outputs": [],
   "source": []
  },
  {
   "cell_type": "code",
   "execution_count": null,
   "id": "cf09de86-e287-4043-a6c3-260ec9aeb18a",
   "metadata": {},
   "outputs": [],
   "source": []
  },
  {
   "cell_type": "code",
   "execution_count": null,
   "id": "436aede9-578d-4244-86cc-9a57b85d5e22",
   "metadata": {},
   "outputs": [],
   "source": []
  },
  {
   "cell_type": "code",
   "execution_count": null,
   "id": "b9ba3d49-bfe2-44bf-9281-fbb5714b3eef",
   "metadata": {},
   "outputs": [],
   "source": []
  },
  {
   "cell_type": "code",
   "execution_count": null,
   "id": "62d19f93-78f5-4588-adef-419605da8b0b",
   "metadata": {},
   "outputs": [],
   "source": []
  },
  {
   "cell_type": "code",
   "execution_count": null,
   "id": "805afe7a-c3b1-4811-ae1b-66bb83c4a67b",
   "metadata": {},
   "outputs": [],
   "source": []
  },
  {
   "cell_type": "code",
   "execution_count": null,
   "id": "58b629da-d47c-4ec1-bfa3-03ac5c2967e6",
   "metadata": {},
   "outputs": [],
   "source": []
  },
  {
   "cell_type": "code",
   "execution_count": null,
   "id": "b9a6585a-8abf-42fc-892e-dce1d7917d9e",
   "metadata": {},
   "outputs": [],
   "source": []
  }
 ],
 "metadata": {
  "kernelspec": {
   "display_name": "Python 3 (ipykernel)",
   "language": "python",
   "name": "python3"
  },
  "language_info": {
   "codemirror_mode": {
    "name": "ipython",
    "version": 3
   },
   "file_extension": ".py",
   "mimetype": "text/x-python",
   "name": "python",
   "nbconvert_exporter": "python",
   "pygments_lexer": "ipython3",
   "version": "3.10.16"
  }
 },
 "nbformat": 4,
 "nbformat_minor": 5
}
