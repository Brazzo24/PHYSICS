{
 "cells": [
  {
   "cell_type": "code",
   "execution_count": null,
   "id": "967ef05b-036c-46dd-a829-8e6d2dd9b6b8",
   "metadata": {},
   "outputs": [],
   "source": []
  }
 ],
 "metadata": {
  "kernelspec": {
   "display_name": "",
   "name": ""
  },
  "language_info": {
   "name": ""
  }
 },
 "nbformat": 4,
 "nbformat_minor": 5
}
