{
 "cells": [
  {
   "cell_type": "code",
   "execution_count": 1,
   "metadata": {},
   "outputs": [],
   "source": [
    "import numpy as np\n",
    "from scipy.linalg import eigh\n",
    "import matplotlib.pyplot as plt\n",
    "import math\n",
    "import pandas as pd\n",
    "import sympy as sp\n"
   ]
  },
  {
   "cell_type": "code",
   "execution_count": 1,
   "metadata": {},
   "outputs": [
    {
     "name": "stdout",
     "output_type": "stream",
     "text": [
      "Inertia matrix I_mat:\n",
      " [[10.  0.  0.]\n",
      " [ 0. 12.  0.]\n",
      " [ 0.  0.  5.]]\n",
      "Stiffness matrix K_mat:\n",
      " [[ 3000. -2000.     0.]\n",
      " [-2000.  3500. -1500.]\n",
      " [    0. -1500.  1500.]]\n"
     ]
    }
   ],
   "source": [
    "import numpy as np\n",
    "\n",
    "def build_torsional_system(I_list, k_list):\n",
    "    \"\"\"\n",
    "    Builds the mass (inertia) matrix and stiffness matrix for \n",
    "    an n-inertia torsional system in a row.\n",
    "\n",
    "    Parameters:\n",
    "    -----------\n",
    "    I_list : list of floats\n",
    "        Inertias [I1, I2, ..., In].\n",
    "    k_list : list of floats\n",
    "        Springs [k1, k2, ..., kn].\n",
    "        k1 -> between inertia 1 and ground\n",
    "        k2 -> between inertia 1 and inertia 2\n",
    "        ...\n",
    "        kn -> between inertia n and ground (or boundary)\n",
    "\n",
    "    Returns:\n",
    "    --------\n",
    "    I_mat : (n x n) numpy array\n",
    "        Diagonal matrix of inertias\n",
    "    K_mat : (n x n) numpy array\n",
    "        Torsional stiffness matrix\n",
    "    \"\"\"\n",
    "\n",
    "    n = len(I_list)  # number of inertias\n",
    "    # Build inertia matrix (diagonal)\n",
    "    I_mat = np.diag(I_list)\n",
    "\n",
    "    # Build stiffness matrix\n",
    "    K_mat = np.zeros((n, n))\n",
    "\n",
    "    # Fill the diagonal entries\n",
    "    for i in range(n):\n",
    "        # If i == 0, the diagonal gets k1 + k2\n",
    "        # If i == n-1, the diagonal gets k_{n-1} + k_n \n",
    "        # Otherwise, k_{i} + k_{i+1}\n",
    "        # But we must check array indexing carefully.\n",
    "\n",
    "        # Add spring from ground to inertia i (k[i]) if it exists\n",
    "        # i.e. if i == 0, we add k[0] to diagonal\n",
    "        # if i == n-1, we add k[n-1] (the last one) \n",
    "        # or generally k[i] if that spring is \"to ground.\"\n",
    "        # This logic may differ depending on your exact layout.\n",
    "\n",
    "        # For simplicity, let's assume each inertia has a \"to ground\" spring k[i]\n",
    "        # plus a \"to next inertia\" spring k[i+1], except for the last one.\n",
    "        # Adjust according to your exact physical configuration.\n",
    "\n",
    "        # Always add the spring to ground (k[i]) if i < len(k_list):\n",
    "        if i < len(k_list):\n",
    "            K_mat[i, i] += k_list[i]\n",
    "\n",
    "        # Add the spring to the next inertia, if i+1 < n:\n",
    "        if i+1 < n and i+1 < len(k_list):\n",
    "            K_mat[i, i] += k_list[i+1]\n",
    "\n",
    "    # Fill the off-diagonal entries\n",
    "    for i in range(n-1):\n",
    "        # The spring between inertia i and inertia i+1 is k[i+1]\n",
    "        # (assuming that is how you arranged the k_list).\n",
    "        # Put it in -k[i+1] in (i, i+1) and (i+1, i).\n",
    "        if i+1 < len(k_list):\n",
    "            K_mat[i,   i+1] = -k_list[i+1]\n",
    "            K_mat[i+1, i  ] = -k_list[i+1]\n",
    "\n",
    "    return I_mat, K_mat\n",
    "\n",
    "# -----------\n",
    "# Example usage\n",
    "# -----------\n",
    "if __name__ == \"__main__\":\n",
    "    # Suppose we have 3 inertias and 3 springs\n",
    "    I_list = [10.0, 12.0, 5.0]  # e.g. [I1, I2, I3]\n",
    "    k_list = [1000.0, 2000.0, 1500.0]  # e.g. [k1, k2, k3]\n",
    "    I_mat, K_mat = build_torsional_system(I_list, k_list)\n",
    "    print(\"Inertia matrix I_mat:\\n\", I_mat)\n",
    "    print(\"Stiffness matrix K_mat:\\n\", K_mat)\n"
   ]
  },
  {
   "cell_type": "code",
   "execution_count": null,
   "metadata": {},
   "outputs": [],
   "source": []
  }
 ],
 "metadata": {
  "kernelspec": {
   "display_name": "Python 3 (ipykernel)",
   "language": "python",
   "name": "python3"
  },
  "language_info": {
   "codemirror_mode": {
    "name": "ipython",
    "version": 3
   },
   "file_extension": ".py",
   "mimetype": "text/x-python",
   "name": "python",
   "nbconvert_exporter": "python",
   "pygments_lexer": "ipython3",
   "version": "3.10.16"
  }
 },
 "nbformat": 4,
 "nbformat_minor": 4
}
