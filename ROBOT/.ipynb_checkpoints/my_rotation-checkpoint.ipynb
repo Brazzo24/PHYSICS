{
 "cells": [
  {
   "cell_type": "code",
   "execution_count": 2,
   "id": "2b581226-9f65-47f8-aeb0-1f34aadef4db",
   "metadata": {},
   "outputs": [],
   "source": [
    "import numpy as np"
   ]
  },
  {
   "cell_type": "code",
   "execution_count": 36,
   "id": "5cc647c9-e42f-49fa-8b80-e2b3ed630337",
   "metadata": {},
   "outputs": [
    {
     "data": {
      "text/plain": [
       "array([-2.,  3.,  1.])"
      ]
     },
     "execution_count": 36,
     "metadata": {},
     "output_type": "execute_result"
    }
   ],
   "source": [
    "def rotation_x(A, alpha):\n",
    "    \"\"\"\n",
    "    Rotates a given vektor A around X-Axis by given angle alpha in degrees.\n",
    "    \n",
    "    \"\"\"\n",
    "   \n",
    "    #transform angle from degrees to radians\n",
    "    alpha = np.radians(alpha)\n",
    "\n",
    "    c,s = np.cos(alpha), np.sin(alpha)\n",
    "\n",
    "    #rotation matrix\n",
    "    Rx = np.array([[c, -s, 0], [s, c, 0], [0, 0 , 1]])\n",
    "\n",
    "    # vector A after rotation around axis X by alpha degrees\n",
    "    A_rot =Rx @ A  \n",
    "    \n",
    "    return A_rot\n",
    "\n",
    "A = np.array([3, 2, 1])\n",
    "V = rotation_x(A, 90)\n",
    "V"
   ]
  },
  {
   "cell_type": "code",
   "execution_count": 37,
   "id": "e0e03baf-9e33-4688-bc53-849548ac0307",
   "metadata": {},
   "outputs": [
    {
     "data": {
      "text/plain": [
       "array([-2.,  3.,  1.])"
      ]
     },
     "execution_count": 37,
     "metadata": {},
     "output_type": "execute_result"
    }
   ],
   "source": [
    "A = np.array([3, 2, 1])\n",
    "V = rotation_x(A, 90)\n",
    "V"
   ]
  },
  {
   "cell_type": "code",
   "execution_count": null,
   "id": "c637f186-5dad-43d2-9beb-e05bf57bf5bb",
   "metadata": {},
   "outputs": [],
   "source": []
  },
  {
   "cell_type": "code",
   "execution_count": null,
   "id": "513ba243-3ceb-4303-b036-115a4f7f88f6",
   "metadata": {},
   "outputs": [],
   "source": []
  }
 ],
 "metadata": {
  "kernelspec": {
   "display_name": "Python 3 (ipykernel)",
   "language": "python",
   "name": "python3"
  },
  "language_info": {
   "codemirror_mode": {
    "name": "ipython",
    "version": 3
   },
   "file_extension": ".py",
   "mimetype": "text/x-python",
   "name": "python",
   "nbconvert_exporter": "python",
   "pygments_lexer": "ipython3",
   "version": "3.12.0"
  }
 },
 "nbformat": 4,
 "nbformat_minor": 5
}
